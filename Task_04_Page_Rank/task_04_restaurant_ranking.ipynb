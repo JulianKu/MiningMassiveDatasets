{
 "cells": [
  {
   "cell_type": "markdown",
   "metadata": {},
   "source": [
    "# Project task 04:  Restaurant ranking"
   ]
  },
  {
   "cell_type": "code",
   "execution_count": 1,
   "metadata": {},
   "outputs": [],
   "source": [
    "import numpy as np\n",
    "import scipy.sparse as sp\n",
    "from sklearn.preprocessing import normalize #additional package imported for normalizing the sparse matrix"
   ]
  },
  {
   "cell_type": "markdown",
   "metadata": {},
   "source": [
    "The goal of this task is to rank restaurants using the **PageRank** algorithm. You are given a directed weighted graph where each node represents one restaurant. The edges in this graph are based on users reviews.\n",
    "\n",
    "Additionally for each restaurant you are given the categories it belongs to, i.e. 'Mexican', 'Italian', etc. Note that each restaurant can belong to multiple categories.\n",
    "\n",
    "Considering these categories as topics you will perform **Topic-Specific PageRank**, enabling you to e.g. find the top 10 'Mexican' restaurants."
   ]
  },
  {
   "cell_type": "markdown",
   "metadata": {},
   "source": [
    "## 1. Load data\n",
    "\n",
    "* The graph is stored as a sparse adjacency matrix $A$\n",
    "* The categories are stored in a binary sparse matrix $C$, with $C_{ij}=1$ indicating that restaurant $i$ belongs to category $j$\n",
    "* We also provide you with a dictionary mapping each category to its corresponding column index in $C$\n",
    "* The name of each restaurant is provided as a list, with the i-th element in the list corresponding to the i-th node in the graph"
   ]
  },
  {
   "cell_type": "code",
   "execution_count": 2,
   "metadata": {},
   "outputs": [
    {
     "data": {
      "text/plain": [
       "<7073x7073 sparse matrix of type '<class 'numpy.float64'>'\n",
       "\twith 1682844 stored elements in Compressed Sparse Row format>"
      ]
     },
     "execution_count": 2,
     "metadata": {},
     "output_type": "execute_result"
    }
   ],
   "source": [
    "A = sp.load_npz('restaurant_graph.npz')\n",
    "A"
   ]
  },
  {
   "cell_type": "code",
   "execution_count": 3,
   "metadata": {},
   "outputs": [
    {
     "data": {
      "text/plain": [
       "<7073x138 sparse matrix of type '<class 'numpy.float64'>'\n",
       "\twith 19047 stored elements in Compressed Sparse Row format>"
      ]
     },
     "execution_count": 3,
     "metadata": {},
     "output_type": "execute_result"
    }
   ],
   "source": [
    "C = sp.load_npz('restaurant_categories.npz')\n",
    "C"
   ]
  },
  {
   "cell_type": "code",
   "execution_count": 4,
   "metadata": {
    "scrolled": true
   },
   "outputs": [
    {
     "data": {
      "text/plain": [
       "(3, 14)"
      ]
     },
     "execution_count": 4,
     "metadata": {},
     "output_type": "execute_result"
    }
   ],
   "source": [
    "categories = np.load('categories.npy').tolist()\n",
    "categories['Mexican'], categories['Chinese']"
   ]
  },
  {
   "cell_type": "code",
   "execution_count": 5,
   "metadata": {},
   "outputs": [
    {
     "data": {
      "text/plain": [
       "array(['Alize Catering', 'Chula Taberna Mexicana', 'Sunnyside Grill'],\n",
       "      dtype='<U50')"
      ]
     },
     "execution_count": 5,
     "metadata": {},
     "output_type": "execute_result"
    }
   ],
   "source": [
    "names = np.load('restaurant_names.npy')\n",
    "names[:3]"
   ]
  },
  {
   "cell_type": "code",
   "execution_count": 6,
   "metadata": {},
   "outputs": [],
   "source": [
    "assert A.shape[0] == len(names) == C.shape[0]\n",
    "assert C.shape[1] == len(categories)"
   ]
  },
  {
   "cell_type": "markdown",
   "metadata": {},
   "source": [
    " ## 2. Determine the teleport set\n",
    " \n",
    "\n",
    "Given a list of topics of intereset, i.e. `['Mexican', 'Italian', ...]`, implement a helper function to return all the restaurants that belong to **at least one** of these topics. These restaurants will become part of the teleport set in Topic-Specific PageRank."
   ]
  },
  {
   "cell_type": "code",
   "execution_count": 7,
   "metadata": {},
   "outputs": [],
   "source": [
    "def teleport_set(C, topics, categories):\n",
    "    \"\"\"\n",
    "    Finds the teleport set consisting of restaurants that belong to at least one of the specified topics.\n",
    "    \n",
    "    Parameters\n",
    "    ----------\n",
    "    C             : sp.spmatrix, shape [num_restaurants, num_categories]\n",
    "                    Binary matrix encoding which restaurants belongs to which categories.\n",
    "    topics        : List[string]\n",
    "                    List of topics of interest.\n",
    "    categories    : dict(string, int)\n",
    "                    Dictionary mapping each category to its corresponding column index in C.\n",
    "        \n",
    "    Returns\n",
    "    -------\n",
    "    teleport_idx : np.array, shape [S]\n",
    "                   The indicies of the nodes in the teleport set.\n",
    "    \"\"\"\n",
    "    #initialize teleport set\n",
    "    teleport_idx = [] \n",
    "    #iterate through the given topics\n",
    "    for z in range(len(topics)): \n",
    "        \n",
    "        #get the current topic\n",
    "        current_topic = topics[z]\n",
    "        #get the corresponding index for the current topic\n",
    "        current_idx = categories.get(current_topic)\n",
    "        #get the rows and columns indices of the nonzero elements of the sparse matrix\n",
    "        nonzero_rows, nonzero_columns = C.nonzero()\n",
    "        #define a mask that is true for all nonzero columns that are equal to the topic index\n",
    "        mask = (nonzero_columns == current_idx)\n",
    "        #apply the mask to the nonzero_rows to get the restaurants that corresponds to the wanted topic \n",
    "        teleport_inter = nonzero_rows[mask]\n",
    "        \n",
    "        #write the relevant indices into the new array\n",
    "        for t in range (len(teleport_inter)):\n",
    "            current_value = teleport_inter[t]\n",
    "            teleport_idx.append(current_value)\n",
    "        \n",
    "    \n",
    "    return teleport_idx"
   ]
  },
  {
   "cell_type": "markdown",
   "metadata": {},
   "source": [
    " ## 2. Implement Topic-Specific PageRank"
   ]
  },
  {
   "cell_type": "code",
   "execution_count": 8,
   "metadata": {},
   "outputs": [],
   "source": [
    "def page_rank(A, beta, teleport_idx=None, eps=1e-12):\n",
    "    \"\"\"\n",
    "    Implements Topic-Specific PageRank using power iteration and sparse matrix operations.\n",
    "    \n",
    "    Parameters\n",
    "    ----------\n",
    "    A           : sp.spmatrix, shape [num_restaurants, num_restaurants]\n",
    "                  The adjacency matrix representing the graph of restaurants.\n",
    "    beta        : float, \n",
    "                  0 < beta < 1, (1-beta) is the probabilty of teleporting to the nodes in the teleport set\n",
    "    teleport_idx: np.array, shape [S]\n",
    "                  The indicies of the nodes in the teleport set. If it equals to None\n",
    "                  it means runs standard PageRank, i.e. all nodes are in the teleport set.\n",
    "    \n",
    "    Returns\n",
    "    -------\n",
    "    r          : np.array, shape [num_restaurants]\n",
    "                 The page rank vector containing the page rank scores for each restaurant.\n",
    "    \"\"\"\n",
    "    #get the number of restaurants from the shape of the adjacency matrix\n",
    "    num_restaurants,_ = A.shape\n",
    "    #vector to be added during the eigenvalue computation for the full teleport set\n",
    "    vector_add_full = np.ones(num_restaurants) * (1/num_restaurants)\n",
    "    #initialize vector r randomly\n",
    "    r = np.random.rand((num_restaurants))\n",
    "    #initialize the flag\n",
    "    flag=True\n",
    "    \n",
    "    #check if page ranking should be topic specific or not\n",
    "    if teleport_idx == None:\n",
    "        while flag == True:\n",
    "\n",
    "            #define the previous computed r as r_old to compute later the difference between r and r_old\n",
    "            r_old = r \n",
    "            #normalize A since A isn't a stochastic matrix yet\n",
    "            A = normalize(A, norm='l1', axis=0)\n",
    "            #compute the new r following the given equation\n",
    "            r = beta * A.dot(r) + (1-beta) * vector_add_full\n",
    "            #normalize the new r\n",
    "            r = r / (np.sum(r))\n",
    "\n",
    "            #check if convergence is reached:\n",
    "            #power iteration stops if the mean of the Euclidean distance \n",
    "            #between the current and the previous vector is under the given threshold epslion\n",
    "            if np.mean((r-r_old)**2) < 1e-12: \n",
    "                flag=False\n",
    "                \n",
    "    else:\n",
    "        #perform a topic specific page ranking\n",
    "        while flag == True:\n",
    "            \n",
    "            #define the previous computed r as r_old to compute later the difference between r and r_old\n",
    "            r_old = r\n",
    "            #vector to be add is initialized with zeros since only restaurants \n",
    "            #in the teleport set should be unequal zero\n",
    "            vector_add = np.zeros((num_restaurants))\n",
    "            #add a one for restaurants that correspond to the given teleport_idx set (topic specific)\n",
    "            vector_add[teleport_idx] += 1\n",
    "            #normalize A since A isn't a stochastic matrix yet\n",
    "            A = normalize(A, norm='l1', axis=0)\n",
    "            #compute the new r by adding a vector that is only unequal to zero \n",
    "            #if the restaurant is part of the teleport_idx set and corresponds to one of the given topics\n",
    "            r = beta * A.dot(r) + ( (1-beta) * vector_add ) / len(teleport_idx)\n",
    "            #normalize r \n",
    "            r = r/(np.sum(r))\n",
    "            #same breaking criteria like above\n",
    "            if np.mean((r-r_old)**2) < 1e-12: \n",
    "                flag=False\n",
    "    \n",
    "    return r"
   ]
  },
  {
   "cell_type": "markdown",
   "metadata": {},
   "source": [
    "### 3.1 Calculate the standard PageRank scores and print the names of the top 5 restaurants overall"
   ]
  },
  {
   "cell_type": "code",
   "execution_count": 9,
   "metadata": {},
   "outputs": [],
   "source": [
    "idx_to_category = {v:k for k, v in categories.items()}"
   ]
  },
  {
   "cell_type": "code",
   "execution_count": 10,
   "metadata": {
    "scrolled": false
   },
   "outputs": [
    {
     "name": "stdout",
     "output_type": "stream",
     "text": [
      "1 Congee Me \n",
      "  Categories:  ['Korean']\n",
      "2 Go Go China \n",
      "  Categories:  ['Chinese']\n",
      "3 Sushi Making For the Soul \n",
      "  Categories:  ['Japanese']\n",
      "4 Spring Rolls \n",
      "  Categories:  ['African']\n",
      "5 Happy Tummy Filipino Cuisine \n",
      "  Categories:  ['Chinese']\n"
     ]
    }
   ],
   "source": [
    "r = page_rank(A=A, beta=0.6, teleport_idx=None)\n",
    "\n",
    "for i, x in enumerate(r.argsort()[-5:]):\n",
    "    print(i+1, names[x], '\\n  Categories: ', [idx_to_category[cat] for cat in C[x].nonzero()[1]])"
   ]
  },
  {
   "cell_type": "markdown",
   "metadata": {},
   "source": [
    "### 3.2 Calculate the standard PageRank scores and print the names of top 5 Mexican restaurants"
   ]
  },
  {
   "cell_type": "code",
   "execution_count": 11,
   "metadata": {
    "scrolled": true
   },
   "outputs": [
    {
     "name": "stdout",
     "output_type": "stream",
     "text": [
      "1 Chill \n",
      "  Categories:  ['Mexican']\n",
      "2 El Taquito \n",
      "  Categories:  ['Mexican']\n",
      "3 The Atlantic \n",
      "  Categories:  ['Fast Food', 'Mexican']\n",
      "4 Burrito Loco \n",
      "  Categories:  ['Mexican']\n",
      "5 El Takito \n",
      "  Categories:  ['Mexican']\n"
     ]
    }
   ],
   "source": [
    "teleport_idx = teleport_set(C, ['Mexican'], categories)\n",
    "r = page_rank(A=A, beta=0.6, teleport_idx=teleport_idx)\n",
    "\n",
    "for i, x in enumerate(r.argsort()[-5:]):\n",
    "    print(i+1, names[x], '\\n  Categories: ', [idx_to_category[cat] for cat in C[x].nonzero()[1]])"
   ]
  },
  {
   "cell_type": "markdown",
   "metadata": {},
   "source": [
    "### 3.3 Calculate the standard PageRank scores and print the names of top 5 Italian or French restaurants\n"
   ]
  },
  {
   "cell_type": "code",
   "execution_count": 12,
   "metadata": {
    "scrolled": true
   },
   "outputs": [
    {
     "name": "stdout",
     "output_type": "stream",
     "text": [
      "1 Ali Baba's Middle Eastern Cuisine \n",
      "  Categories:  ['Sandwiches', 'Pizza', 'Italian']\n",
      "2 New May Hong Yuen BBQ \n",
      "  Categories:  ['Italian']\n",
      "3 Sunnyside Café \n",
      "  Categories:  ['French']\n",
      "4 IPho Vietnamese Cuisine \n",
      "  Categories:  ['Italian']\n",
      "5 McDonald's \n",
      "  Categories:  ['Italian']\n"
     ]
    }
   ],
   "source": [
    "teleport_idx = teleport_set(C, ['Italian', 'French'], categories)\n",
    "r = page_rank(A=A, beta=0.6, teleport_idx=teleport_idx)\n",
    "\n",
    "for i, x in enumerate(r.argsort()[-5:]):\n",
    "    print(i+1, names[x], '\\n  Categories: ', [idx_to_category[cat] for cat in C[x].nonzero()[1]])"
   ]
  }
 ],
 "metadata": {
  "kernelspec": {
   "display_name": "Python 3",
   "language": "python",
   "name": "python3"
  },
  "language_info": {
   "codemirror_mode": {
    "name": "ipython",
    "version": 3
   },
   "file_extension": ".py",
   "mimetype": "text/x-python",
   "name": "python",
   "nbconvert_exporter": "python",
   "pygments_lexer": "ipython3",
   "version": "3.6.5"
  }
 },
 "nbformat": 4,
 "nbformat_minor": 2
}
